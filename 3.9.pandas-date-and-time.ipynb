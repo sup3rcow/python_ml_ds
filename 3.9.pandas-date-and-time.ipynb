{
 "metadata": {
  "language_info": {
   "codemirror_mode": {
    "name": "ipython",
    "version": 3
   },
   "file_extension": ".py",
   "mimetype": "text/x-python",
   "name": "python",
   "nbconvert_exporter": "python",
   "pygments_lexer": "ipython3",
   "version": "3.9.5"
  },
  "orig_nbformat": 2,
  "kernelspec": {
   "name": "python395jvsc74a57bd09c69254a10fa66e3e827562111af1942c1a47e08bdbd7e4db25beacfe1c5362f",
   "display_name": "Python 3.9.5 64-bit ('python_ml_ds-OwauQgO_': pipenv)"
  }
 },
 "nbformat": 4,
 "nbformat_minor": 2,
 "cells": [
  {
   "cell_type": "code",
   "execution_count": 2,
   "metadata": {},
   "outputs": [],
   "source": [
    "import numpy as np\n",
    "import pandas as pd\n",
    "from datetime import datetime"
   ]
  },
  {
   "cell_type": "code",
   "execution_count": 12,
   "metadata": {},
   "outputs": [],
   "source": [
    "myyear=2015\n",
    "mymonth=1\n",
    "myday=31\n",
    "myhour=2\n",
    "mymin=30\n",
    "mysec=15"
   ]
  },
  {
   "cell_type": "code",
   "execution_count": 13,
   "metadata": {},
   "outputs": [
    {
     "output_type": "execute_result",
     "data": {
      "text/plain": [
       "datetime.datetime(2015, 1, 31, 2, 30, 15)"
      ]
     },
     "metadata": {},
     "execution_count": 13
    }
   ],
   "source": [
    "mydate = datetime(myyear,mymonth,myday,myhour,mymin,mysec)\n",
    "mydate"
   ]
  },
  {
   "cell_type": "code",
   "execution_count": 14,
   "metadata": {},
   "outputs": [
    {
     "output_type": "execute_result",
     "data": {
      "text/plain": [
       "'01/31/2015, 02:30:15'"
      ]
     },
     "metadata": {},
     "execution_count": 14
    }
   ],
   "source": [
    "mydate.strftime(\"%m/%d/%Y, %H:%M:%S\")"
   ]
  },
  {
   "cell_type": "code",
   "execution_count": 16,
   "metadata": {},
   "outputs": [
    {
     "output_type": "execute_result",
     "data": {
      "text/plain": [
       "0    Nov 3, 1990\n",
       "1     2000-01-31\n",
       "2           None\n",
       "dtype: object"
      ]
     },
     "metadata": {},
     "execution_count": 16
    }
   ],
   "source": [
    "myser = pd.Series(['Nov 3, 1990', '2000-01-31', None])\n",
    "myser"
   ]
  },
  {
   "cell_type": "code",
   "execution_count": 18,
   "metadata": {},
   "outputs": [
    {
     "output_type": "execute_result",
     "data": {
      "text/plain": [
       "0   1990-11-03\n",
       "1   2000-01-31\n",
       "2          NaT\n",
       "dtype: datetime64[ns]"
      ]
     },
     "metadata": {},
     "execution_count": 18
    }
   ],
   "source": [
    "timeser=pd.to_datetime(myser)\n",
    "timeser"
   ]
  },
  {
   "cell_type": "code",
   "execution_count": null,
   "metadata": {},
   "outputs": [],
   "source": []
  }
 ]
}