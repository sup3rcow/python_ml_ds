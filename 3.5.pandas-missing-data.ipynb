{
 "metadata": {
  "language_info": {
   "codemirror_mode": {
    "name": "ipython",
    "version": 3
   },
   "file_extension": ".py",
   "mimetype": "text/x-python",
   "name": "python",
   "nbconvert_exporter": "python",
   "pygments_lexer": "ipython3",
   "version": "3.9.5"
  },
  "orig_nbformat": 2,
  "kernelspec": {
   "name": "python395jvsc74a57bd09c69254a10fa66e3e827562111af1942c1a47e08bdbd7e4db25beacfe1c5362f",
   "display_name": "Python 3.9.5 64-bit ('python_ml_ds-OwauQgO_': pipenv)"
  }
 },
 "nbformat": 4,
 "nbformat_minor": 2,
 "cells": [
  {
   "cell_type": "code",
   "execution_count": 30,
   "metadata": {},
   "outputs": [],
   "source": [
    "import numpy as np\n",
    "import pandas as pd"
   ]
  },
  {
   "cell_type": "code",
   "execution_count": 31,
   "metadata": {},
   "outputs": [
    {
     "output_type": "execute_result",
     "data": {
      "text/plain": [
       "nan"
      ]
     },
     "metadata": {},
     "execution_count": 31
    }
   ],
   "source": [
    "np.nan # missing values, ovo cemo koristiti"
   ]
  },
  {
   "cell_type": "code",
   "execution_count": 32,
   "metadata": {},
   "outputs": [
    {
     "output_type": "stream",
     "name": "stdout",
     "text": [
      "<NA>\nNaT\n"
     ]
    }
   ],
   "source": [
    "# oco za sad ne koristimo\n",
    "print(pd.NA)\n",
    "print(pd.NaT) # navodno za timestamp kolone"
   ]
  },
  {
   "cell_type": "code",
   "execution_count": 33,
   "metadata": {},
   "outputs": [
    {
     "output_type": "execute_result",
     "data": {
      "text/plain": [
       "False"
      ]
     },
     "metadata": {},
     "execution_count": 33
    }
   ],
   "source": [
    "np.nan == np.nan # ne provjeravas ovako"
   ]
  },
  {
   "cell_type": "code",
   "execution_count": 34,
   "metadata": {},
   "outputs": [
    {
     "output_type": "execute_result",
     "data": {
      "text/plain": [
       "True"
      ]
     },
     "metadata": {},
     "execution_count": 34
    }
   ],
   "source": [
    "np.nan is np.nan"
   ]
  },
  {
   "cell_type": "code",
   "execution_count": 35,
   "metadata": {},
   "outputs": [
    {
     "output_type": "execute_result",
     "data": {
      "text/plain": [
       "  first_name last_name   age  sex  pre_movie_score  post_movie_score\n",
       "0        Tom     Hanks  63.0    m              8.0              10.0\n",
       "1        NaN       NaN   NaN  NaN              NaN               NaN\n",
       "2       Hugh   Jackman  51.0    m              NaN               NaN\n",
       "3      Oprah   Winfrey  66.0    f              6.0               8.0\n",
       "4       Emma     Stone  31.0    f              7.0               9.0"
      ],
      "text/html": "<div>\n<style scoped>\n    .dataframe tbody tr th:only-of-type {\n        vertical-align: middle;\n    }\n\n    .dataframe tbody tr th {\n        vertical-align: top;\n    }\n\n    .dataframe thead th {\n        text-align: right;\n    }\n</style>\n<table border=\"1\" class=\"dataframe\">\n  <thead>\n    <tr style=\"text-align: right;\">\n      <th></th>\n      <th>first_name</th>\n      <th>last_name</th>\n      <th>age</th>\n      <th>sex</th>\n      <th>pre_movie_score</th>\n      <th>post_movie_score</th>\n    </tr>\n  </thead>\n  <tbody>\n    <tr>\n      <th>0</th>\n      <td>Tom</td>\n      <td>Hanks</td>\n      <td>63.0</td>\n      <td>m</td>\n      <td>8.0</td>\n      <td>10.0</td>\n    </tr>\n    <tr>\n      <th>1</th>\n      <td>NaN</td>\n      <td>NaN</td>\n      <td>NaN</td>\n      <td>NaN</td>\n      <td>NaN</td>\n      <td>NaN</td>\n    </tr>\n    <tr>\n      <th>2</th>\n      <td>Hugh</td>\n      <td>Jackman</td>\n      <td>51.0</td>\n      <td>m</td>\n      <td>NaN</td>\n      <td>NaN</td>\n    </tr>\n    <tr>\n      <th>3</th>\n      <td>Oprah</td>\n      <td>Winfrey</td>\n      <td>66.0</td>\n      <td>f</td>\n      <td>6.0</td>\n      <td>8.0</td>\n    </tr>\n    <tr>\n      <th>4</th>\n      <td>Emma</td>\n      <td>Stone</td>\n      <td>31.0</td>\n      <td>f</td>\n      <td>7.0</td>\n      <td>9.0</td>\n    </tr>\n  </tbody>\n</table>\n</div>"
     },
     "metadata": {},
     "execution_count": 35
    }
   ],
   "source": [
    "df = pd.read_csv('3.5-movie_scores.csv')\n",
    "df.head()"
   ]
  },
  {
   "cell_type": "code",
   "execution_count": 36,
   "metadata": {},
   "outputs": [
    {
     "output_type": "execute_result",
     "data": {
      "text/plain": [
       "   first_name  last_name    age    sex  pre_movie_score  post_movie_score\n",
       "0       False      False  False  False            False             False\n",
       "1        True       True   True   True             True              True\n",
       "2       False      False  False  False             True              True\n",
       "3       False      False  False  False            False             False\n",
       "4       False      False  False  False            False             False"
      ],
      "text/html": "<div>\n<style scoped>\n    .dataframe tbody tr th:only-of-type {\n        vertical-align: middle;\n    }\n\n    .dataframe tbody tr th {\n        vertical-align: top;\n    }\n\n    .dataframe thead th {\n        text-align: right;\n    }\n</style>\n<table border=\"1\" class=\"dataframe\">\n  <thead>\n    <tr style=\"text-align: right;\">\n      <th></th>\n      <th>first_name</th>\n      <th>last_name</th>\n      <th>age</th>\n      <th>sex</th>\n      <th>pre_movie_score</th>\n      <th>post_movie_score</th>\n    </tr>\n  </thead>\n  <tbody>\n    <tr>\n      <th>0</th>\n      <td>False</td>\n      <td>False</td>\n      <td>False</td>\n      <td>False</td>\n      <td>False</td>\n      <td>False</td>\n    </tr>\n    <tr>\n      <th>1</th>\n      <td>True</td>\n      <td>True</td>\n      <td>True</td>\n      <td>True</td>\n      <td>True</td>\n      <td>True</td>\n    </tr>\n    <tr>\n      <th>2</th>\n      <td>False</td>\n      <td>False</td>\n      <td>False</td>\n      <td>False</td>\n      <td>True</td>\n      <td>True</td>\n    </tr>\n    <tr>\n      <th>3</th>\n      <td>False</td>\n      <td>False</td>\n      <td>False</td>\n      <td>False</td>\n      <td>False</td>\n      <td>False</td>\n    </tr>\n    <tr>\n      <th>4</th>\n      <td>False</td>\n      <td>False</td>\n      <td>False</td>\n      <td>False</td>\n      <td>False</td>\n      <td>False</td>\n    </tr>\n  </tbody>\n</table>\n</div>"
     },
     "metadata": {},
     "execution_count": 36
    }
   ],
   "source": [
    "df.isnull() # provjeri is NaN"
   ]
  },
  {
   "cell_type": "code",
   "execution_count": 37,
   "metadata": {},
   "outputs": [
    {
     "output_type": "execute_result",
     "data": {
      "text/plain": [
       "   first_name  last_name    age    sex  pre_movie_score  post_movie_score\n",
       "0        True       True   True   True             True              True\n",
       "1       False      False  False  False            False             False\n",
       "2        True       True   True   True            False             False\n",
       "3        True       True   True   True             True              True\n",
       "4        True       True   True   True             True              True"
      ],
      "text/html": "<div>\n<style scoped>\n    .dataframe tbody tr th:only-of-type {\n        vertical-align: middle;\n    }\n\n    .dataframe tbody tr th {\n        vertical-align: top;\n    }\n\n    .dataframe thead th {\n        text-align: right;\n    }\n</style>\n<table border=\"1\" class=\"dataframe\">\n  <thead>\n    <tr style=\"text-align: right;\">\n      <th></th>\n      <th>first_name</th>\n      <th>last_name</th>\n      <th>age</th>\n      <th>sex</th>\n      <th>pre_movie_score</th>\n      <th>post_movie_score</th>\n    </tr>\n  </thead>\n  <tbody>\n    <tr>\n      <th>0</th>\n      <td>True</td>\n      <td>True</td>\n      <td>True</td>\n      <td>True</td>\n      <td>True</td>\n      <td>True</td>\n    </tr>\n    <tr>\n      <th>1</th>\n      <td>False</td>\n      <td>False</td>\n      <td>False</td>\n      <td>False</td>\n      <td>False</td>\n      <td>False</td>\n    </tr>\n    <tr>\n      <th>2</th>\n      <td>True</td>\n      <td>True</td>\n      <td>True</td>\n      <td>True</td>\n      <td>False</td>\n      <td>False</td>\n    </tr>\n    <tr>\n      <th>3</th>\n      <td>True</td>\n      <td>True</td>\n      <td>True</td>\n      <td>True</td>\n      <td>True</td>\n      <td>True</td>\n    </tr>\n    <tr>\n      <th>4</th>\n      <td>True</td>\n      <td>True</td>\n      <td>True</td>\n      <td>True</td>\n      <td>True</td>\n      <td>True</td>\n    </tr>\n  </tbody>\n</table>\n</div>"
     },
     "metadata": {},
     "execution_count": 37
    }
   ],
   "source": [
    "df.notnull() # suprotno od isnull"
   ]
  },
  {
   "cell_type": "code",
   "execution_count": 38,
   "metadata": {},
   "outputs": [
    {
     "output_type": "execute_result",
     "data": {
      "text/plain": [
       "  first_name last_name   age sex  pre_movie_score  post_movie_score\n",
       "0        Tom     Hanks  63.0   m              8.0              10.0\n",
       "3      Oprah   Winfrey  66.0   f              6.0               8.0\n",
       "4       Emma     Stone  31.0   f              7.0               9.0"
      ],
      "text/html": "<div>\n<style scoped>\n    .dataframe tbody tr th:only-of-type {\n        vertical-align: middle;\n    }\n\n    .dataframe tbody tr th {\n        vertical-align: top;\n    }\n\n    .dataframe thead th {\n        text-align: right;\n    }\n</style>\n<table border=\"1\" class=\"dataframe\">\n  <thead>\n    <tr style=\"text-align: right;\">\n      <th></th>\n      <th>first_name</th>\n      <th>last_name</th>\n      <th>age</th>\n      <th>sex</th>\n      <th>pre_movie_score</th>\n      <th>post_movie_score</th>\n    </tr>\n  </thead>\n  <tbody>\n    <tr>\n      <th>0</th>\n      <td>Tom</td>\n      <td>Hanks</td>\n      <td>63.0</td>\n      <td>m</td>\n      <td>8.0</td>\n      <td>10.0</td>\n    </tr>\n    <tr>\n      <th>3</th>\n      <td>Oprah</td>\n      <td>Winfrey</td>\n      <td>66.0</td>\n      <td>f</td>\n      <td>6.0</td>\n      <td>8.0</td>\n    </tr>\n    <tr>\n      <th>4</th>\n      <td>Emma</td>\n      <td>Stone</td>\n      <td>31.0</td>\n      <td>f</td>\n      <td>7.0</td>\n      <td>9.0</td>\n    </tr>\n  </tbody>\n</table>\n</div>"
     },
     "metadata": {},
     "execution_count": 38
    }
   ],
   "source": [
    "df[df['pre_movie_score'].notnull()]"
   ]
  },
  {
   "cell_type": "code",
   "execution_count": 39,
   "metadata": {},
   "outputs": [
    {
     "output_type": "execute_result",
     "data": {
      "text/plain": [
       "  first_name last_name   age sex  pre_movie_score  post_movie_score\n",
       "2       Hugh   Jackman  51.0   m              NaN               NaN"
      ],
      "text/html": "<div>\n<style scoped>\n    .dataframe tbody tr th:only-of-type {\n        vertical-align: middle;\n    }\n\n    .dataframe tbody tr th {\n        vertical-align: top;\n    }\n\n    .dataframe thead th {\n        text-align: right;\n    }\n</style>\n<table border=\"1\" class=\"dataframe\">\n  <thead>\n    <tr style=\"text-align: right;\">\n      <th></th>\n      <th>first_name</th>\n      <th>last_name</th>\n      <th>age</th>\n      <th>sex</th>\n      <th>pre_movie_score</th>\n      <th>post_movie_score</th>\n    </tr>\n  </thead>\n  <tbody>\n    <tr>\n      <th>2</th>\n      <td>Hugh</td>\n      <td>Jackman</td>\n      <td>51.0</td>\n      <td>m</td>\n      <td>NaN</td>\n      <td>NaN</td>\n    </tr>\n  </tbody>\n</table>\n</div>"
     },
     "metadata": {},
     "execution_count": 39
    }
   ],
   "source": [
    "df[(df['pre_movie_score'].isnull()) & (df['first_name'].notnull())]"
   ]
  },
  {
   "cell_type": "code",
   "execution_count": 40,
   "metadata": {},
   "outputs": [
    {
     "output_type": "execute_result",
     "data": {
      "text/plain": [
       "  first_name last_name   age sex  pre_movie_score  post_movie_score\n",
       "0        Tom     Hanks  63.0   m              8.0              10.0\n",
       "3      Oprah   Winfrey  66.0   f              6.0               8.0\n",
       "4       Emma     Stone  31.0   f              7.0               9.0"
      ],
      "text/html": "<div>\n<style scoped>\n    .dataframe tbody tr th:only-of-type {\n        vertical-align: middle;\n    }\n\n    .dataframe tbody tr th {\n        vertical-align: top;\n    }\n\n    .dataframe thead th {\n        text-align: right;\n    }\n</style>\n<table border=\"1\" class=\"dataframe\">\n  <thead>\n    <tr style=\"text-align: right;\">\n      <th></th>\n      <th>first_name</th>\n      <th>last_name</th>\n      <th>age</th>\n      <th>sex</th>\n      <th>pre_movie_score</th>\n      <th>post_movie_score</th>\n    </tr>\n  </thead>\n  <tbody>\n    <tr>\n      <th>0</th>\n      <td>Tom</td>\n      <td>Hanks</td>\n      <td>63.0</td>\n      <td>m</td>\n      <td>8.0</td>\n      <td>10.0</td>\n    </tr>\n    <tr>\n      <th>3</th>\n      <td>Oprah</td>\n      <td>Winfrey</td>\n      <td>66.0</td>\n      <td>f</td>\n      <td>6.0</td>\n      <td>8.0</td>\n    </tr>\n    <tr>\n      <th>4</th>\n      <td>Emma</td>\n      <td>Stone</td>\n      <td>31.0</td>\n      <td>f</td>\n      <td>7.0</td>\n      <td>9.0</td>\n    </tr>\n  </tbody>\n</table>\n</div>"
     },
     "metadata": {},
     "execution_count": 40
    }
   ],
   "source": [
    "# drop data\n",
    "df.dropna() # dropa sve retke koji nemaju makar jednu vrijednost"
   ]
  },
  {
   "cell_type": "code",
   "execution_count": 41,
   "metadata": {},
   "outputs": [
    {
     "output_type": "stream",
     "name": "stdout",
     "text": [
      "Help on method dropna in module pandas.core.frame:\n\ndropna(axis=0, how='any', thresh=None, subset=None, inplace=False) method of pandas.core.frame.DataFrame instance\n    Remove missing values.\n    \n    See the :ref:`User Guide <missing_data>` for more on which values are\n    considered missing, and how to work with missing data.\n    \n    Parameters\n    ----------\n    axis : {0 or 'index', 1 or 'columns'}, default 0\n        Determine if rows or columns which contain missing values are\n        removed.\n    \n        * 0, or 'index' : Drop rows which contain missing values.\n        * 1, or 'columns' : Drop columns which contain missing value.\n    \n        .. versionchanged:: 1.0.0\n    \n           Pass tuple or list to drop on multiple axes.\n           Only a single axis is allowed.\n    \n    how : {'any', 'all'}, default 'any'\n        Determine if row or column is removed from DataFrame, when we have\n        at least one NA or all NA.\n    \n        * 'any' : If any NA values are present, drop that row or column.\n        * 'all' : If all values are NA, drop that row or column.\n    \n    thresh : int, optional\n        Require that many non-NA values.\n    subset : array-like, optional\n        Labels along other axis to consider, e.g. if you are dropping rows\n        these would be a list of columns to include.\n    inplace : bool, default False\n        If True, do operation inplace and return None.\n    \n    Returns\n    -------\n    DataFrame or None\n        DataFrame with NA entries dropped from it or None if ``inplace=True``.\n    \n    See Also\n    --------\n    DataFrame.isna: Indicate missing values.\n    DataFrame.notna : Indicate existing (non-missing) values.\n    DataFrame.fillna : Replace missing values.\n    Series.dropna : Drop missing values.\n    Index.dropna : Drop missing indices.\n    \n    Examples\n    --------\n    >>> df = pd.DataFrame({\"name\": ['Alfred', 'Batman', 'Catwoman'],\n    ...                    \"toy\": [np.nan, 'Batmobile', 'Bullwhip'],\n    ...                    \"born\": [pd.NaT, pd.Timestamp(\"1940-04-25\"),\n    ...                             pd.NaT]})\n    >>> df\n           name        toy       born\n    0    Alfred        NaN        NaT\n    1    Batman  Batmobile 1940-04-25\n    2  Catwoman   Bullwhip        NaT\n    \n    Drop the rows where at least one element is missing.\n    \n    >>> df.dropna()\n         name        toy       born\n    1  Batman  Batmobile 1940-04-25\n    \n    Drop the columns where at least one element is missing.\n    \n    >>> df.dropna(axis='columns')\n           name\n    0    Alfred\n    1    Batman\n    2  Catwoman\n    \n    Drop the rows where all elements are missing.\n    \n    >>> df.dropna(how='all')\n           name        toy       born\n    0    Alfred        NaN        NaT\n    1    Batman  Batmobile 1940-04-25\n    2  Catwoman   Bullwhip        NaT\n    \n    Keep only the rows with at least 2 non-NA values.\n    \n    >>> df.dropna(thresh=2)\n           name        toy       born\n    1    Batman  Batmobile 1940-04-25\n    2  Catwoman   Bullwhip        NaT\n    \n    Define in which columns to look for missing values.\n    \n    >>> df.dropna(subset=['name', 'toy'])\n           name        toy       born\n    1    Batman  Batmobile 1940-04-25\n    2  Catwoman   Bullwhip        NaT\n    \n    Keep the DataFrame with valid entries in the same variable.\n    \n    >>> df.dropna(inplace=True)\n    >>> df\n         name        toy       born\n    1  Batman  Batmobile 1940-04-25\n\n"
     ]
    }
   ],
   "source": [
    "help(df.dropna)"
   ]
  },
  {
   "cell_type": "code",
   "execution_count": 42,
   "metadata": {},
   "outputs": [
    {
     "output_type": "execute_result",
     "data": {
      "text/plain": [
       "  first_name last_name   age sex  pre_movie_score  post_movie_score\n",
       "0        Tom     Hanks  63.0   m              8.0              10.0\n",
       "2       Hugh   Jackman  51.0   m              NaN               NaN\n",
       "3      Oprah   Winfrey  66.0   f              6.0               8.0\n",
       "4       Emma     Stone  31.0   f              7.0               9.0"
      ],
      "text/html": "<div>\n<style scoped>\n    .dataframe tbody tr th:only-of-type {\n        vertical-align: middle;\n    }\n\n    .dataframe tbody tr th {\n        vertical-align: top;\n    }\n\n    .dataframe thead th {\n        text-align: right;\n    }\n</style>\n<table border=\"1\" class=\"dataframe\">\n  <thead>\n    <tr style=\"text-align: right;\">\n      <th></th>\n      <th>first_name</th>\n      <th>last_name</th>\n      <th>age</th>\n      <th>sex</th>\n      <th>pre_movie_score</th>\n      <th>post_movie_score</th>\n    </tr>\n  </thead>\n  <tbody>\n    <tr>\n      <th>0</th>\n      <td>Tom</td>\n      <td>Hanks</td>\n      <td>63.0</td>\n      <td>m</td>\n      <td>8.0</td>\n      <td>10.0</td>\n    </tr>\n    <tr>\n      <th>2</th>\n      <td>Hugh</td>\n      <td>Jackman</td>\n      <td>51.0</td>\n      <td>m</td>\n      <td>NaN</td>\n      <td>NaN</td>\n    </tr>\n    <tr>\n      <th>3</th>\n      <td>Oprah</td>\n      <td>Winfrey</td>\n      <td>66.0</td>\n      <td>f</td>\n      <td>6.0</td>\n      <td>8.0</td>\n    </tr>\n    <tr>\n      <th>4</th>\n      <td>Emma</td>\n      <td>Stone</td>\n      <td>31.0</td>\n      <td>f</td>\n      <td>7.0</td>\n      <td>9.0</td>\n    </tr>\n  </tbody>\n</table>\n</div>"
     },
     "metadata": {},
     "execution_count": 42
    }
   ],
   "source": [
    "df.dropna(thresh=1) # izbaci sve redove koji nemaju niti jedan atribut sa vrijednoscu razlizito od Nan"
   ]
  },
  {
   "cell_type": "code",
   "execution_count": 43,
   "metadata": {},
   "outputs": [
    {
     "output_type": "execute_result",
     "data": {
      "text/plain": [
       "Empty DataFrame\n",
       "Columns: []\n",
       "Index: [0, 1, 2, 3, 4]"
      ],
      "text/html": "<div>\n<style scoped>\n    .dataframe tbody tr th:only-of-type {\n        vertical-align: middle;\n    }\n\n    .dataframe tbody tr th {\n        vertical-align: top;\n    }\n\n    .dataframe thead th {\n        text-align: right;\n    }\n</style>\n<table border=\"1\" class=\"dataframe\">\n  <thead>\n    <tr style=\"text-align: right;\">\n      <th></th>\n    </tr>\n  </thead>\n  <tbody>\n    <tr>\n      <th>0</th>\n    </tr>\n    <tr>\n      <th>1</th>\n    </tr>\n    <tr>\n      <th>2</th>\n    </tr>\n    <tr>\n      <th>3</th>\n    </tr>\n    <tr>\n      <th>4</th>\n    </tr>\n  </tbody>\n</table>\n</div>"
     },
     "metadata": {},
     "execution_count": 43
    }
   ],
   "source": [
    "df.dropna(axis=1) # sad ce gledati vertikalno, po kolonama, i dropa kolone koje ne zadovolje\n",
    "# dropaju se sve kolone jer postoji redak koji ima sve NaN"
   ]
  },
  {
   "cell_type": "code",
   "execution_count": 44,
   "metadata": {},
   "outputs": [
    {
     "output_type": "execute_result",
     "data": {
      "text/plain": [
       "  first_name last_name   age sex  pre_movie_score  post_movie_score\n",
       "0        Tom     Hanks  63.0   m              8.0              10.0\n",
       "2       Hugh   Jackman  51.0   m              NaN               NaN\n",
       "3      Oprah   Winfrey  66.0   f              6.0               8.0\n",
       "4       Emma     Stone  31.0   f              7.0               9.0"
      ],
      "text/html": "<div>\n<style scoped>\n    .dataframe tbody tr th:only-of-type {\n        vertical-align: middle;\n    }\n\n    .dataframe tbody tr th {\n        vertical-align: top;\n    }\n\n    .dataframe thead th {\n        text-align: right;\n    }\n</style>\n<table border=\"1\" class=\"dataframe\">\n  <thead>\n    <tr style=\"text-align: right;\">\n      <th></th>\n      <th>first_name</th>\n      <th>last_name</th>\n      <th>age</th>\n      <th>sex</th>\n      <th>pre_movie_score</th>\n      <th>post_movie_score</th>\n    </tr>\n  </thead>\n  <tbody>\n    <tr>\n      <th>0</th>\n      <td>Tom</td>\n      <td>Hanks</td>\n      <td>63.0</td>\n      <td>m</td>\n      <td>8.0</td>\n      <td>10.0</td>\n    </tr>\n    <tr>\n      <th>2</th>\n      <td>Hugh</td>\n      <td>Jackman</td>\n      <td>51.0</td>\n      <td>m</td>\n      <td>NaN</td>\n      <td>NaN</td>\n    </tr>\n    <tr>\n      <th>3</th>\n      <td>Oprah</td>\n      <td>Winfrey</td>\n      <td>66.0</td>\n      <td>f</td>\n      <td>6.0</td>\n      <td>8.0</td>\n    </tr>\n    <tr>\n      <th>4</th>\n      <td>Emma</td>\n      <td>Stone</td>\n      <td>31.0</td>\n      <td>f</td>\n      <td>7.0</td>\n      <td>9.0</td>\n    </tr>\n  </tbody>\n</table>\n</div>"
     },
     "metadata": {},
     "execution_count": 44
    }
   ],
   "source": [
    "df.dropna(subset=['first_name']) # odbaci retke koji samo za first_name imaju NaN, a ne bilo gdje da imaju NaN"
   ]
  },
  {
   "cell_type": "code",
   "execution_count": 45,
   "metadata": {},
   "outputs": [
    {
     "output_type": "stream",
     "name": "stdout",
     "text": [
      "Help on method fillna in module pandas.core.frame:\n\nfillna(value=None, method=None, axis=None, inplace=False, limit=None, downcast=None) -> 'Optional[DataFrame]' method of pandas.core.frame.DataFrame instance\n    Fill NA/NaN values using the specified method.\n    \n    Parameters\n    ----------\n    value : scalar, dict, Series, or DataFrame\n        Value to use to fill holes (e.g. 0), alternately a\n        dict/Series/DataFrame of values specifying which value to use for\n        each index (for a Series) or column (for a DataFrame).  Values not\n        in the dict/Series/DataFrame will not be filled. This value cannot\n        be a list.\n    method : {'backfill', 'bfill', 'pad', 'ffill', None}, default None\n        Method to use for filling holes in reindexed Series\n        pad / ffill: propagate last valid observation forward to next valid\n        backfill / bfill: use next valid observation to fill gap.\n    axis : {0 or 'index', 1 or 'columns'}\n        Axis along which to fill missing values.\n    inplace : bool, default False\n        If True, fill in-place. Note: this will modify any\n        other views on this object (e.g., a no-copy slice for a column in a\n        DataFrame).\n    limit : int, default None\n        If method is specified, this is the maximum number of consecutive\n        NaN values to forward/backward fill. In other words, if there is\n        a gap with more than this number of consecutive NaNs, it will only\n        be partially filled. If method is not specified, this is the\n        maximum number of entries along the entire axis where NaNs will be\n        filled. Must be greater than 0 if not None.\n    downcast : dict, default is None\n        A dict of item->dtype of what to downcast if possible,\n        or the string 'infer' which will try to downcast to an appropriate\n        equal type (e.g. float64 to int64 if possible).\n    \n    Returns\n    -------\n    DataFrame or None\n        Object with missing values filled or None if ``inplace=True``.\n    \n    See Also\n    --------\n    interpolate : Fill NaN values using interpolation.\n    reindex : Conform object to new index.\n    asfreq : Convert TimeSeries to specified frequency.\n    \n    Examples\n    --------\n    >>> df = pd.DataFrame([[np.nan, 2, np.nan, 0],\n    ...                    [3, 4, np.nan, 1],\n    ...                    [np.nan, np.nan, np.nan, 5],\n    ...                    [np.nan, 3, np.nan, 4]],\n    ...                   columns=list('ABCD'))\n    >>> df\n         A    B   C  D\n    0  NaN  2.0 NaN  0\n    1  3.0  4.0 NaN  1\n    2  NaN  NaN NaN  5\n    3  NaN  3.0 NaN  4\n    \n    Replace all NaN elements with 0s.\n    \n    >>> df.fillna(0)\n        A   B   C   D\n    0   0.0 2.0 0.0 0\n    1   3.0 4.0 0.0 1\n    2   0.0 0.0 0.0 5\n    3   0.0 3.0 0.0 4\n    \n    We can also propagate non-null values forward or backward.\n    \n    >>> df.fillna(method='ffill')\n        A   B   C   D\n    0   NaN 2.0 NaN 0\n    1   3.0 4.0 NaN 1\n    2   3.0 4.0 NaN 5\n    3   3.0 3.0 NaN 4\n    \n    Replace all NaN elements in column 'A', 'B', 'C', and 'D', with 0, 1,\n    2, and 3 respectively.\n    \n    >>> values = {'A': 0, 'B': 1, 'C': 2, 'D': 3}\n    >>> df.fillna(value=values)\n        A   B   C   D\n    0   0.0 2.0 2.0 0\n    1   3.0 4.0 2.0 1\n    2   0.0 1.0 2.0 5\n    3   0.0 3.0 2.0 4\n    \n    Only replace the first NaN element.\n    \n    >>> df.fillna(value=values, limit=1)\n        A   B   C   D\n    0   0.0 2.0 2.0 0\n    1   3.0 4.0 NaN 1\n    2   NaN 1.0 NaN 5\n    3   NaN 3.0 NaN 4\n\n"
     ]
    }
   ],
   "source": [
    "# fill data\n",
    "help(df.fillna)"
   ]
  },
  {
   "cell_type": "code",
   "execution_count": 47,
   "metadata": {},
   "outputs": [],
   "source": [
    "# df['pre_movie_score'] = df['pre_movie_score'].fillna(0) # jedan od nacina za postavljanje defaultnih vrijednosti ako su NaN"
   ]
  },
  {
   "cell_type": "code",
   "execution_count": 48,
   "metadata": {},
   "outputs": [
    {
     "output_type": "execute_result",
     "data": {
      "text/plain": [
       "7.0"
      ]
     },
     "metadata": {},
     "execution_count": 48
    }
   ],
   "source": [
    "df['pre_movie_score'].mean() # npr, mozes popuniti vrijednost na osnovu postojecih vrijednosti"
   ]
  },
  {
   "cell_type": "code",
   "execution_count": 51,
   "metadata": {},
   "outputs": [
    {
     "output_type": "execute_result",
     "data": {
      "text/plain": [
       "  first_name last_name   age  sex  pre_movie_score  post_movie_score\n",
       "0        Tom     Hanks  63.0    m              8.0              10.0\n",
       "1        NaN       NaN   NaN  NaN              7.0               NaN\n",
       "2       Hugh   Jackman  51.0    m              7.0               NaN\n",
       "3      Oprah   Winfrey  66.0    f              6.0               8.0\n",
       "4       Emma     Stone  31.0    f              7.0               9.0"
      ],
      "text/html": "<div>\n<style scoped>\n    .dataframe tbody tr th:only-of-type {\n        vertical-align: middle;\n    }\n\n    .dataframe tbody tr th {\n        vertical-align: top;\n    }\n\n    .dataframe thead th {\n        text-align: right;\n    }\n</style>\n<table border=\"1\" class=\"dataframe\">\n  <thead>\n    <tr style=\"text-align: right;\">\n      <th></th>\n      <th>first_name</th>\n      <th>last_name</th>\n      <th>age</th>\n      <th>sex</th>\n      <th>pre_movie_score</th>\n      <th>post_movie_score</th>\n    </tr>\n  </thead>\n  <tbody>\n    <tr>\n      <th>0</th>\n      <td>Tom</td>\n      <td>Hanks</td>\n      <td>63.0</td>\n      <td>m</td>\n      <td>8.0</td>\n      <td>10.0</td>\n    </tr>\n    <tr>\n      <th>1</th>\n      <td>NaN</td>\n      <td>NaN</td>\n      <td>NaN</td>\n      <td>NaN</td>\n      <td>7.0</td>\n      <td>NaN</td>\n    </tr>\n    <tr>\n      <th>2</th>\n      <td>Hugh</td>\n      <td>Jackman</td>\n      <td>51.0</td>\n      <td>m</td>\n      <td>7.0</td>\n      <td>NaN</td>\n    </tr>\n    <tr>\n      <th>3</th>\n      <td>Oprah</td>\n      <td>Winfrey</td>\n      <td>66.0</td>\n      <td>f</td>\n      <td>6.0</td>\n      <td>8.0</td>\n    </tr>\n    <tr>\n      <th>4</th>\n      <td>Emma</td>\n      <td>Stone</td>\n      <td>31.0</td>\n      <td>f</td>\n      <td>7.0</td>\n      <td>9.0</td>\n    </tr>\n  </tbody>\n</table>\n</div>"
     },
     "metadata": {},
     "execution_count": 51
    }
   ],
   "source": [
    "df['pre_movie_score'] = df['pre_movie_score'].fillna(df['pre_movie_score'].mean())\n",
    "df"
   ]
  }
 ]
}