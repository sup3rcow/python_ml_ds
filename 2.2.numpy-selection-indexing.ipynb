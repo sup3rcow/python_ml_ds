{
 "metadata": {
  "language_info": {
   "codemirror_mode": {
    "name": "ipython",
    "version": 3
   },
   "file_extension": ".py",
   "mimetype": "text/x-python",
   "name": "python",
   "nbconvert_exporter": "python",
   "pygments_lexer": "ipython3",
   "version": "3.9.5"
  },
  "orig_nbformat": 2,
  "kernelspec": {
   "name": "python395jvsc74a57bd09c69254a10fa66e3e827562111af1942c1a47e08bdbd7e4db25beacfe1c5362f",
   "display_name": "Python 3.9.5 64-bit ('python_ml_ds-OwauQgO_': pipenv)"
  }
 },
 "nbformat": 4,
 "nbformat_minor": 2,
 "cells": [
  {
   "cell_type": "code",
   "execution_count": 5,
   "metadata": {},
   "outputs": [
    {
     "output_type": "stream",
     "name": "stdout",
     "text": [
      "[ 0  1  2  3  4  5  6  7  8  9 10]\n[2 3 4]\n[0 1 2 3 4]\n[ 5  6  7  8  9 10]\n"
     ]
    }
   ],
   "source": [
    "import numpy as np\n",
    "arr = np.arange(0,11)\n",
    "print(arr)\n",
    "print(arr[2:5])\n",
    "print(arr[:5])\n",
    "print(arr[5:])"
   ]
  },
  {
   "cell_type": "code",
   "execution_count": 8,
   "metadata": {},
   "outputs": [
    {
     "output_type": "stream",
     "name": "stdout",
     "text": [
      "[100 100 100 100 100   5   6   7   8   9  10]\n"
     ]
    }
   ],
   "source": [
    "arr[0:5] = 100\n",
    "print(arr)"
   ]
  },
  {
   "cell_type": "code",
   "execution_count": 12,
   "metadata": {},
   "outputs": [
    {
     "output_type": "stream",
     "name": "stdout",
     "text": [
      "[ 0  1  2  3  4  5  6  7  8  9 10]\n[0 1 2 3 4]\n"
     ]
    }
   ],
   "source": [
    "arr = np.arange(0,11)\n",
    "slice_of_arr = arr[0:5]\n",
    "print(arr)\n",
    "print(slice_of_arr)"
   ]
  },
  {
   "cell_type": "code",
   "execution_count": 14,
   "metadata": {},
   "outputs": [
    {
     "output_type": "stream",
     "name": "stdout",
     "text": [
      "[99 99 99 99 99  5  6  7  8  9 10]\n[99 99 99 99 99]\n"
     ]
    }
   ],
   "source": [
    "slice_of_arr[:] = 99\n",
    "print(arr) # !!!!!!!!!!!!!!!!!  slice_of_arr je samo pointer na arr\n",
    "print(slice_of_arr)"
   ]
  },
  {
   "cell_type": "code",
   "execution_count": 16,
   "metadata": {},
   "outputs": [
    {
     "output_type": "stream",
     "name": "stdout",
     "text": [
      "[100 100 100 100 100 100 100 100 100 100 100]\n[99 99 99 99 99  5  6  7  8  9 10]\n"
     ]
    }
   ],
   "source": [
    "arr_copy = arr.copy()\n",
    "arr_copy[:] = 100\n",
    "print(arr_copy)\n",
    "print(arr)"
   ]
  },
  {
   "cell_type": "code",
   "execution_count": 46,
   "metadata": {},
   "outputs": [
    {
     "output_type": "stream",
     "name": "stdout",
     "text": [
      "<class 'numpy.ndarray'>\n(3, 3)\n[[5 10 15]\n [20 25 30]\n [35 40 45]]\n[5 10 15]\n25\n25\n"
     ]
    }
   ],
   "source": [
    "arr_2d = np.array([[5,10,15],[20,25,30],[35,40,45]], dtype=object)\n",
    "# arr_2d = np.ndarray([[5,10,15],[20.25,30],[35,40,45]])\n",
    "print(type(arr_2d))\n",
    "print(arr_2d.shape)\n",
    "print(arr_2d)\n",
    "print(arr_2d[0])\n",
    "print(arr_2d[1][1])\n",
    "print(arr_2d[1,1]) # isto kao i iznad\n"
   ]
  },
  {
   "cell_type": "code",
   "execution_count": 50,
   "metadata": {},
   "outputs": [
    {
     "output_type": "execute_result",
     "data": {
      "text/plain": [
       "array([[10, 15],\n",
       "       [25, 30]], dtype=object)"
      ]
     },
     "metadata": {},
     "execution_count": 50
    }
   ],
   "source": [
    "arr_2d[:2,1:]\n"
   ]
  },
  {
   "cell_type": "code",
   "execution_count": 51,
   "metadata": {},
   "outputs": [
    {
     "output_type": "execute_result",
     "data": {
      "text/plain": [
       "array([ 1,  2,  3,  4,  5,  6,  7,  8,  9, 10])"
      ]
     },
     "metadata": {},
     "execution_count": 51
    }
   ],
   "source": [
    "arr = np.arange(1,11)\n",
    "arr"
   ]
  },
  {
   "cell_type": "code",
   "execution_count": 54,
   "metadata": {},
   "outputs": [
    {
     "output_type": "execute_result",
     "data": {
      "text/plain": [
       "array([False, False, False, False,  True,  True,  True,  True,  True,\n",
       "        True])"
      ]
     },
     "metadata": {},
     "execution_count": 54
    }
   ],
   "source": [
    "bool_arr = arr > 4\n",
    "bool_arr"
   ]
  },
  {
   "cell_type": "code",
   "execution_count": 55,
   "metadata": {},
   "outputs": [
    {
     "output_type": "execute_result",
     "data": {
      "text/plain": [
       "array([ 5,  6,  7,  8,  9, 10])"
      ]
     },
     "metadata": {},
     "execution_count": 55
    }
   ],
   "source": [
    "arr[bool_arr]"
   ]
  },
  {
   "cell_type": "code",
   "execution_count": 57,
   "metadata": {},
   "outputs": [
    {
     "output_type": "execute_result",
     "data": {
      "text/plain": [
       "array([ 5,  6,  7,  8,  9, 10])"
      ]
     },
     "metadata": {},
     "execution_count": 57
    }
   ],
   "source": [
    "arr[arr>4] # filtriranje"
   ]
  },
  {
   "cell_type": "code",
   "execution_count": null,
   "metadata": {},
   "outputs": [],
   "source": []
  }
 ]
}