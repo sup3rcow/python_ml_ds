{
 "metadata": {
  "language_info": {
   "codemirror_mode": {
    "name": "ipython",
    "version": 3
   },
   "file_extension": ".py",
   "mimetype": "text/x-python",
   "name": "python",
   "nbconvert_exporter": "python",
   "pygments_lexer": "ipython3",
   "version": "3.9.5"
  },
  "orig_nbformat": 2,
  "kernelspec": {
   "name": "python395jvsc74a57bd09c69254a10fa66e3e827562111af1942c1a47e08bdbd7e4db25beacfe1c5362f",
   "display_name": "Python 3.9.5 64-bit ('python_ml_ds-OwauQgO_': pipenv)"
  }
 },
 "nbformat": 4,
 "nbformat_minor": 2,
 "cells": [
  {
   "cell_type": "code",
   "execution_count": 3,
   "metadata": {},
   "outputs": [],
   "source": [
    "import numpy as np\n",
    "import pandas as pd"
   ]
  },
  {
   "cell_type": "code",
   "execution_count": 5,
   "metadata": {},
   "outputs": [
    {
     "output_type": "execute_result",
     "data": {
      "text/plain": [
       "array([[95, 11, 81],\n",
       "       [70, 63, 87],\n",
       "       [75,  9, 77],\n",
       "       [40,  4, 63]])"
      ]
     },
     "metadata": {},
     "execution_count": 5
    }
   ],
   "source": [
    "np.random.seed(101) # proizvoljno odaberemo seed 101\n",
    "mydata = np.random.randint(0,101,(4,3))\n",
    "mydata"
   ]
  },
  {
   "cell_type": "code",
   "execution_count": 8,
   "metadata": {},
   "outputs": [
    {
     "output_type": "execute_result",
     "data": {
      "text/plain": [
       "    Jan  Feb  Mar\n",
       "CA   95   11   81\n",
       "NY   70   63   87\n",
       "AZ   75    9   77\n",
       "TX   40    4   63"
      ],
      "text/html": "<div>\n<style scoped>\n    .dataframe tbody tr th:only-of-type {\n        vertical-align: middle;\n    }\n\n    .dataframe tbody tr th {\n        vertical-align: top;\n    }\n\n    .dataframe thead th {\n        text-align: right;\n    }\n</style>\n<table border=\"1\" class=\"dataframe\">\n  <thead>\n    <tr style=\"text-align: right;\">\n      <th></th>\n      <th>Jan</th>\n      <th>Feb</th>\n      <th>Mar</th>\n    </tr>\n  </thead>\n  <tbody>\n    <tr>\n      <th>CA</th>\n      <td>95</td>\n      <td>11</td>\n      <td>81</td>\n    </tr>\n    <tr>\n      <th>NY</th>\n      <td>70</td>\n      <td>63</td>\n      <td>87</td>\n    </tr>\n    <tr>\n      <th>AZ</th>\n      <td>75</td>\n      <td>9</td>\n      <td>77</td>\n    </tr>\n    <tr>\n      <th>TX</th>\n      <td>40</td>\n      <td>4</td>\n      <td>63</td>\n    </tr>\n  </tbody>\n</table>\n</div>"
     },
     "metadata": {},
     "execution_count": 8
    }
   ],
   "source": [
    "myindex = ['CA', 'NY', 'AZ', 'TX']\n",
    "mycolumns = ['Jan', 'Feb', 'Mar']\n",
    "df = pd.DataFrame(mydata,myindex,mycolumns)\n",
    "df"
   ]
  },
  {
   "cell_type": "code",
   "execution_count": 9,
   "metadata": {},
   "outputs": [
    {
     "output_type": "stream",
     "name": "stdout",
     "text": [
      "<class 'pandas.core.frame.DataFrame'>\nIndex: 4 entries, CA to TX\nData columns (total 3 columns):\n #   Column  Non-Null Count  Dtype\n---  ------  --------------  -----\n 0   Jan     4 non-null      int64\n 1   Feb     4 non-null      int64\n 2   Mar     4 non-null      int64\ndtypes: int64(3)\nmemory usage: 300.0+ bytes\n"
     ]
    }
   ],
   "source": [
    "df.info()"
   ]
  },
  {
   "cell_type": "code",
   "execution_count": 10,
   "metadata": {},
   "outputs": [
    {
     "output_type": "execute_result",
     "data": {
      "text/plain": [
       "'/Users/marko/Projects/python/python_ml_ds'"
      ]
     },
     "metadata": {},
     "execution_count": 10
    }
   ],
   "source": [
    "pwd"
   ]
  },
  {
   "cell_type": "code",
   "execution_count": 11,
   "metadata": {},
   "outputs": [
    {
     "output_type": "stream",
     "name": "stdout",
     "text": [
      "1.python_crach_course.py            3.2.pandas-data-frames.ipynb\n2.1.numpy.ipynb                     Pipfile\n2.2.numpy-selection-indexing.ipynb  Pipfile.lock\n2.3.numpy-operations.ipynb          README.md\n3.1.pandas-series.ipynb             requirements.txt\n"
     ]
    }
   ],
   "source": [
    "ls"
   ]
  },
  {
   "cell_type": "code",
   "execution_count": null,
   "metadata": {},
   "outputs": [],
   "source": []
  }
 ]
}